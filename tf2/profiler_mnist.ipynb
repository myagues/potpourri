{
 "cells": [
  {
   "cell_type": "markdown",
   "metadata": {},
   "source": [
    "# [Tensorflow profiler](https://github.com/tensorflow/profiler)\n",
    "\n",
    "- [Github repository](https://github.com/tensorflow/profiler)\n",
    "- [Performance Guide](https://www.tensorflow.org/guide/profiler)\n",
    "- [Mixed precision guide](https://www.tensorflow.org/guide/keras/mixed_precision)\n",
    "- [Grappler optimization](https://www.tensorflow.org/guide/graph_optimization)\n",
    "\n",
    "[Permission issue with Performance Counters](https://developer.nvidia.com/nvidia-development-tools-solutions-ERR_NVGPUCTRPERM-permission-issue-performance-counters)\n",
    "\n",
    "- `echo 'options nvidia \"NVreg_RestrictProfilingToAdminUsers=0\"' | sudo tee -a /etc/modprobe.d/nvidia.conf`"
   ]
  },
  {
   "cell_type": "code",
   "execution_count": null,
   "metadata": {},
   "outputs": [],
   "source": [
    "!pip uninstall -q -y tensorboard tensorflow\n",
    "!pip install -q -U tf-nightly tb-nightly tensorboard_plugin_profile"
   ]
  },
  {
   "cell_type": "code",
   "execution_count": null,
   "metadata": {},
   "outputs": [],
   "source": [
    "import os\n",
    "import time\n",
    "from typing import Dict, Tuple\n",
    "\n",
    "import tensorflow as tf\n",
    "import tensorflow_datasets as tfds\n",
    "\n",
    "from datetime import datetime\n",
    "from tensorflow.keras.mixed_precision import experimental as mixed_precision\n",
    "\n",
    "tfds.disable_progress_bar()\n",
    "%load_ext nb_black\n",
    "%load_ext tensorboard"
   ]
  },
  {
   "cell_type": "code",
   "execution_count": null,
   "metadata": {},
   "outputs": [],
   "source": [
    "def preprocess_fn(\n",
    "    feature: Dict[str, tf.Tensor], output_height: int = 28, output_width: int = 28\n",
    ") -> Dict[str, tf.Tensor]:\n",
    "    image, label = feature[\"image\"], feature[\"label\"]\n",
    "    image = tf.cast(image, tf.float32)\n",
    "    label = tf.cast(label, tf.int64)\n",
    "    image = tf.image.resize_with_crop_or_pad(image, output_width, output_height)\n",
    "    image = tf.math.subtract(image, 128.0)\n",
    "    image = tf.math.divide(image, 128.0)\n",
    "    return {\"image\": image, \"label\": label}\n",
    "\n",
    "\n",
    "def read_data(name: str) -> Tuple[tf.data.Dataset, tf.data.Dataset]:\n",
    "    ds_train, ds_test = tfds.load(\n",
    "        name=name, split=[\"train\", \"test\"], data_dir=\"/data/tfds\"\n",
    "    )\n",
    "    ds_train = (\n",
    "        ds_train.shuffle(1000)\n",
    "        .map(preprocess_fn, num_parallel_calls=8)\n",
    "        .batch(128)\n",
    "        .prefetch(tf.data.experimental.AUTOTUNE)\n",
    "    )\n",
    "    ds_test = (\n",
    "        ds_test.map(preprocess_fn, num_parallel_calls=8)\n",
    "        .batch(128)\n",
    "        .prefetch(tf.data.experimental.AUTOTUNE)\n",
    "    )\n",
    "    return (ds_train, ds_test)\n",
    "\n",
    "\n",
    "def mnist_model(\n",
    "    num_classes: int = 10,\n",
    "    weight_decay: float = 0.0,\n",
    "    prob: float = 0.5,\n",
    "    input_shape: Tuple[int, int, int] = (28, 28, 1),\n",
    ") -> tf.keras.Sequential:\n",
    "\n",
    "    weights_init = tf.keras.initializers.TruncatedNormal(stddev=0.1)\n",
    "    model = tf.keras.Sequential(\n",
    "        [\n",
    "            tf.keras.layers.Conv2D(\n",
    "                filters=32,\n",
    "                kernel_size=5,\n",
    "                activation=\"relu\",\n",
    "                kernel_initializer=weights_init,\n",
    "                kernel_regularizer=tf.keras.regularizers.l2(weight_decay),\n",
    "                input_shape=input_shape,\n",
    "            ),\n",
    "            tf.keras.layers.MaxPool2D(2, 2),\n",
    "            tf.keras.layers.Conv2D(\n",
    "                filters=64,\n",
    "                kernel_size=5,\n",
    "                activation=\"relu\",\n",
    "                kernel_initializer=weights_init,\n",
    "                kernel_regularizer=tf.keras.regularizers.l2(weight_decay),\n",
    "            ),\n",
    "            tf.keras.layers.MaxPool2D(2, 2),\n",
    "            tf.keras.layers.Flatten(),\n",
    "            tf.keras.layers.Dense(\n",
    "                1024,\n",
    "                activation=\"relu\",\n",
    "                kernel_initializer=weights_init,\n",
    "                kernel_regularizer=tf.keras.regularizers.l2(weight_decay),\n",
    "            ),\n",
    "            tf.keras.layers.Dropout(prob),\n",
    "            tf.keras.layers.Dense(num_classes, kernel_initializer=weights_init),\n",
    "            tf.keras.layers.Activation(\"linear\", dtype=\"float32\"),\n",
    "\n",
    "        ]\n",
    "    )\n",
    "    return model"
   ]
  },
  {
   "cell_type": "code",
   "execution_count": null,
   "metadata": {},
   "outputs": [],
   "source": [
    "policy = mixed_precision.Policy(\"mixed_float16\")\n",
    "mixed_precision.set_policy(policy)\n",
    "\n",
    "optimizer = tf.keras.optimizers.Adam(learning_rate=0.001)\n",
    "optimizer = mixed_precision.LossScaleOptimizer(optimizer, loss_scale=\"dynamic\")\n",
    "\n",
    "loss = tf.keras.losses.SparseCategoricalCrossentropy(from_logits=True)\n",
    "\n",
    "# tf.config.optimizer.set_experimental_options(\n",
    "#     {\"layout_optimizer\": True, \"shape_optimization\": True}\n",
    "# )\n",
    "# print(tf.config.optimizer.get_experimental_options())\n",
    "\n",
    "ds_train, ds_test = read_data(name=\"mnist\")\n",
    "model = mnist_model()"
   ]
  },
  {
   "cell_type": "code",
   "execution_count": null,
   "metadata": {},
   "outputs": [],
   "source": [
    "# @tf.function(experimental_compile=True)\n",
    "@tf.function\n",
    "def train_step(featues):\n",
    "    images, labels = features[\"image\"], features[\"label\"]\n",
    "    with tf.GradientTape() as tape:\n",
    "        logits = model(images)\n",
    "        loss_value = loss(labels, logits)\n",
    "        scaled_loss = optimizer.get_scaled_loss(loss_value)\n",
    "    scaled_gradients = tape.gradient(scaled_loss, model.trainable_variables)\n",
    "    gradients = optimizer.get_unscaled_gradients(scaled_gradients)\n",
    "    optimizer.apply_gradients(zip(gradients, model.trainable_variables))\n",
    "    return loss_value"
   ]
  },
  {
   "cell_type": "code",
   "execution_count": null,
   "metadata": {},
   "outputs": [],
   "source": [
    "ds_train_ = ds_train.take(60)\n",
    "# Warm-up\n",
    "for idx, features in enumerate(ds_train_.take(10)):\n",
    "    _ = train_step(features)\n",
    "\n",
    "tf.profiler.experimental.start(\"./mnist_logs\")\n",
    "start_time = time.perf_counter()\n",
    "for idx, features in enumerate(ds_train_.take(50)):\n",
    "    train_loss = train_step(features)\n",
    "tf.profiler.experimental.stop()\n",
    "print(f\"Loss: {train_loss},\\t{(time.perf_counter() - start_time) / 50:.5f} sec/step\")"
   ]
  },
  {
   "cell_type": "code",
   "execution_count": null,
   "metadata": {},
   "outputs": [],
   "source": [
    "%tensorboard --logdir ./mnist_logs --bind_all"
   ]
  }
 ],
 "metadata": {
  "kernelspec": {
   "display_name": "Python 3",
   "language": "python",
   "name": "python3"
  },
  "language_info": {
   "codemirror_mode": {
    "name": "ipython",
    "version": 3
   },
   "file_extension": ".py",
   "mimetype": "text/x-python",
   "name": "python",
   "nbconvert_exporter": "python",
   "pygments_lexer": "ipython3",
   "version": "3.6.9"
  }
 },
 "nbformat": 4,
 "nbformat_minor": 4
}