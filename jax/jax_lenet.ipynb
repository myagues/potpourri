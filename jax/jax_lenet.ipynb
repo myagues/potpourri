{
 "cells": [
  {
   "cell_type": "code",
   "execution_count": null,
   "metadata": {},
   "outputs": [],
   "source": [
    "import collections\n",
    "import time\n",
    "\n",
    "import jax.numpy as np\n",
    "import numpy.random as npr\n",
    "import tensorflow as tf\n",
    "\n",
    "from jax import jit, grad, random\n",
    "from jax.experimental import optimizers, stax\n",
    "from jax.experimental.stax import (AvgPool, BatchNorm, Conv, Dense, FanInSum,\n",
    "                                   FanOut, Flatten, GeneralConv, Identity,\n",
    "                                   MaxPool, Relu, LogSoftmax, Dropout)\n",
    "from tqdm import tqdm_notebook\n",
    "from utils import get_ds_batches"
   ]
  },
  {
   "cell_type": "code",
   "execution_count": null,
   "metadata": {},
   "outputs": [],
   "source": [
    "key = random.PRNGKey(0)\n",
    "\n",
    "num_epochs = 5\n",
    "batch_size = 128\n",
    "step_size = 1e-3\n",
    "data_dir = '/projects/tfds'"
   ]
  },
  {
   "cell_type": "code",
   "execution_count": null,
   "metadata": {},
   "outputs": [],
   "source": [
    "def lenet(num_classes, mode='train'):\n",
    "  return stax.serial(\n",
    "    #GeneralConv(('NHWC', 'OIHW', 'NHWC'), 32, (5, 5)), Relu,\n",
    "    Conv(32, (5, 5)), Relu, \n",
    "    MaxPool((2, 2), strides=(2, 2)),\n",
    "    Conv(64, (5, 5)), Relu,\n",
    "    MaxPool((2, 2), strides=(2, 2)),\n",
    "    Flatten,\n",
    "    Dense(1024), Relu,\n",
    "    Dropout(0.5, mode),\n",
    "    Dense(num_classes), LogSoftmax)"
   ]
  },
  {
   "cell_type": "code",
   "execution_count": null,
   "metadata": {},
   "outputs": [],
   "source": [
    "def cross_entropy(logits, labels):\n",
    "  return -np.mean(np.sum(logits * labels, axis=-1))\n",
    "\n",
    "\n",
    "def loss_fun(params, batch, predict_fun, rng=None):\n",
    "  inputs, labels = batch\n",
    "  logits = predict_fun(params, inputs, rng=rng)\n",
    "  return cross_entropy(logits, labels)\n",
    "\n",
    "\n",
    "def accuracy(logits, labels):\n",
    "  predicted_class = np.argmax(logits, axis=1)\n",
    "  labels_class = np.argmax(labels, axis=1)\n",
    "  return np.mean(predicted_class == labels_class)\n",
    "\n",
    "\n",
    "def jit_update_fun(model_fun, loss, opt):\n",
    "  opt_update, get_params = opt\n",
    "  def update(i, opt_state, batch, rng):\n",
    "    params = get_params(opt_state)\n",
    "    grads = grad(loss_fun)(params, batch, model_fun, rng)\n",
    "    return opt_update(i, grads, opt_state)\n",
    "  return jit(update)\n",
    "\n",
    "\n",
    "def jit_predict_fun(model_fun):\n",
    "  def predict(params, inputs, rng=None):\n",
    "    return jit(model_fun)(params, inputs, rng=rng)\n",
    "  return predict"
   ]
  },
  {
   "cell_type": "code",
   "execution_count": null,
   "metadata": {},
   "outputs": [],
   "source": [
    "train_ds = get_ds_batches('mnist', data_dir, 10, 'train', batch_size)\n",
    "_, train_len, img_shape, num_classes = train_ds\n",
    "test_ds = get_ds_batches('mnist', data_dir, 10, 'test', batch_size)\n",
    "_, test_len, _, _ = test_ds\n",
    "input_shape = (batch_size,) + img_shape\n",
    "\n",
    "opt_init, opt_update, get_params = optimizers.momentum(step_size, mass=0.9)\n",
    "\n",
    "init_train_fun, train_fun = lenet(num_classes)\n",
    "_, init_params = init_train_fun(key, input_shape)\n",
    "opt_state = opt_init(init_params)\n",
    "\n",
    "_, test_fun = lenet(num_classes, mode='test')\n",
    "\n",
    "update_step = jit_update_fun(train_fun, loss_fun, (opt_update, get_params))\n",
    "predict_step = jit_predict_fun(test_fun)"
   ]
  },
  {
   "cell_type": "code",
   "execution_count": null,
   "metadata": {},
   "outputs": [],
   "source": [
    "step = 0\n",
    "for ep in range(num_epochs):\n",
    "  train_batches, _, _, _ = get_ds_batches('mnist', data_dir, 10, 'train', batch_size)\n",
    "  start_time = time.time()\n",
    "  for i, batch in tqdm_notebook(enumerate(train_batches), total=train_len):\n",
    "    key, subkey = random.split(key)\n",
    "    opt_state = update_step(step, opt_state, batch, subkey)\n",
    "    if step % 100 == 0:\n",
    "      inputs, labels = batch\n",
    "      logits = predict_step(get_params(opt_state), inputs, rng=subkey)\n",
    "      print(f'Step: {step:d},  '\n",
    "            f'Time/Step: {(time.time() - start_time) / (i + 1):.3f}s  '\n",
    "            f'Loss: {cross_entropy(logits, labels):.5f}  '\n",
    "            f'Acc: {accuracy(logits, labels):.3f}')\n",
    "    step += 1\n",
    "  trained_params = get_params(opt_state)\n",
    "  \n",
    "  test_metrics = collections.defaultdict(float)\n",
    "  test_batches, _, _, _ = get_ds_batches('mnist', data_dir, 10, 'test', batch_size)\n",
    "  start_time = time.time()\n",
    "  for i, batch in tqdm_notebook(enumerate(test_batches), total=test_len):\n",
    "    inputs, labels = batch\n",
    "    key, subkey = random.split(key)\n",
    "    logits = predict_step(trained_params, inputs, rng=subkey)\n",
    "    test_metrics['loss'] += cross_entropy(logits, labels)\n",
    "    test_metrics['acc'] += accuracy(logits, labels)\n",
    "  \n",
    "  print(f'Epoch: {ep:d}  '\n",
    "        f'Time/Step: {(time.time() - start_time) / (i + 1):.3f}s  '\n",
    "        f\"Eval Loss: {test_metrics['loss'] / test_len:.5f}  \"\n",
    "        f\"Eval Acc: {test_metrics['acc'] / test_len:.3f}\")"
   ]
  },
  {
   "cell_type": "code",
   "execution_count": 2,
   "metadata": {},
   "outputs": [],
   "source": [
    "!pip freeze --local > requirements.txt"
   ]
  }
 ],
 "metadata": {
  "kernelspec": {
   "display_name": "Python 3",
   "language": "python",
   "name": "python3"
  },
  "language_info": {
   "codemirror_mode": {
    "name": "ipython",
    "version": 3
   },
   "file_extension": ".py",
   "mimetype": "text/x-python",
   "name": "python",
   "nbconvert_exporter": "python",
   "pygments_lexer": "ipython3",
   "version": "3.7.3"
  }
 },
 "nbformat": 4,
 "nbformat_minor": 2
}
